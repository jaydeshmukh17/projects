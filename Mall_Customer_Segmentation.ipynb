{
  "nbformat": 4,
  "nbformat_minor": 0,
  "metadata": {
    "colab": {
      "name": "Mall Customer Segmentation.ipynb",
      "provenance": [],
      "collapsed_sections": [],
      "include_colab_link": true
    },
    "kernelspec": {
      "display_name": "Python 3",
      "name": "python3"
    },
    "language_info": {
      "name": "python"
    }
  },
  "cells": [
    {
      "cell_type": "markdown",
      "metadata": {
        "id": "view-in-github",
        "colab_type": "text"
      },
      "source": [
        "<a href=\"https://colab.research.google.com/github/jaydeshmukh17/projects/blob/main/Mall_Customer_Segmentation.ipynb\" target=\"_parent\"><img src=\"https://colab.research.google.com/assets/colab-badge.svg\" alt=\"Open In Colab\"/></a>"
      ]
    },
    {
      "cell_type": "code",
      "metadata": {
        "id": "1TLDOZTT5NgN"
      },
      "source": [
        "import numpy as np\n",
        "import pandas as pd\n",
        "import matplotlib.pyplot as plt\n",
        "import seaborn as sns"
      ],
      "execution_count": null,
      "outputs": []
    },
    {
      "cell_type": "markdown",
      "metadata": {
        "id": "5NZ1g6aTx0AN"
      },
      "source": [
        "Dataset Importing"
      ]
    },
    {
      "cell_type": "code",
      "metadata": {
        "id": "nTcLMLpS510L"
      },
      "source": [
        "from google.colab import files\n",
        "files.upload()"
      ],
      "execution_count": null,
      "outputs": []
    },
    {
      "cell_type": "code",
      "metadata": {
        "id": "WPx0f4z7X-WI"
      },
      "source": [
        "dataset = pd.read_csv(\"Mall_Customers.csv\")\n",
        "dataset.head()"
      ],
      "execution_count": null,
      "outputs": []
    },
    {
      "cell_type": "code",
      "metadata": {
        "id": "uZFCmgSDTCjr"
      },
      "source": [
        "dataset.shape"
      ],
      "execution_count": null,
      "outputs": []
    },
    {
      "cell_type": "code",
      "metadata": {
        "id": "rzHb9xywTuw_"
      },
      "source": [
        "dataset.drop([\"CustomerID\"],axis=1, inplace=True)\n",
        "dataset.head()"
      ],
      "execution_count": null,
      "outputs": []
    },
    {
      "cell_type": "code",
      "metadata": {
        "id": "cXtkoiqATIxb"
      },
      "source": [
        "dataset.describe()"
      ],
      "execution_count": null,
      "outputs": []
    },
    {
      "cell_type": "code",
      "metadata": {
        "id": "xYjR4lHDTcuB"
      },
      "source": [
        "dataset.isnull().sum()"
      ],
      "execution_count": null,
      "outputs": []
    },
    {
      "cell_type": "markdown",
      "source": [
        "Data Visualization"
      ],
      "metadata": {
        "id": "xrNPo4weETnp"
      }
    },
    {
      "cell_type": "code",
      "metadata": {
        "id": "MlVI4J8cp3y3",
        "cellView": "code"
      },
      "source": [
        "# AGE\n",
        "age_18_25 = dataset.Age[(dataset.Age >= 18) & (dataset.Age <= 25)]\n",
        "age_26_35 = dataset.Age[(dataset.Age >= 26) & (dataset.Age <= 35)]\n",
        "age_36_45 = dataset.Age[(dataset.Age >= 36) & (dataset.Age <= 45)]\n",
        "age_46_55 = dataset.Age[(dataset.Age >= 46) & (dataset.Age <= 55)]\n",
        "age_55above = dataset.Age[dataset.Age >=56]\n",
        "\n",
        "agex = [\"18-25\", \"26-35\", \"36-45\", \"46-55\", \"55+\"]\n",
        "agey = [len(age_18_25.values),len(age_26_35.values),len(age_36_45.values),len(age_46_55.values),len(age_55above.values)]\n",
        "\n",
        "plt.figure(figsize=(15,6))\n",
        "sns.barplot(x=agex, y=agey, palette=\"mako\")\n",
        "plt.title(\"Number of Customer and Ages\")\n",
        "plt.xlabel(\"Age\")\n",
        "plt.ylabel(\"Number of customers\")\n",
        "plt.show()"
      ],
      "execution_count": null,
      "outputs": []
    },
    {
      "cell_type": "code",
      "metadata": {
        "id": "tekr59Wi5WZw"
      },
      "source": [
        "labels = ['Female', 'Male']\n",
        "size = dataset['Gender'].value_counts()\n",
        "colors = ['lightgreen', 'orange']\n",
        "\n",
        "plt.rcParams['figure.figsize'] = (6, 20)\n",
        "plt.pie(size, colors = [\"hotpink\", \"#4CAF50\"], labels = labels, autopct = '%.2f%%')\n",
        "plt.title('Gender', fontsize = 20)\n",
        "plt.axis('off')\n",
        "plt.legend()\n",
        "plt.show()"
      ],
      "execution_count": null,
      "outputs": []
    },
    {
      "cell_type": "code",
      "source": [
        "Once = dataset.Frequency[(dataset.Frequency == 'Once' ) ]\n",
        "Often= dataset.Frequency[(dataset.Frequency == 'Often' ) ]\n",
        "Regular= dataset.Frequency[(dataset.Frequency == 'Regular') ]\n",
        "\n",
        "agex = [\"Once\", \"Often\", \"Regular\"]\n",
        "agey = [len(Once.values),len(Often.values),len(Regular.values)]\n",
        "\n",
        "plt.figure(figsize=(12,4))\n",
        "sns.barplot(x=agex, y=agey, palette=\"mako\")\n",
        "plt.title(\"Number of Customer & Frequency\")\n",
        "plt.xlabel(\"Frequency\")\n",
        "plt.ylabel(\"Number of customers\")\n",
        "plt.show()"
      ],
      "metadata": {
        "id": "HTPxruPK0p5Y"
      },
      "execution_count": null,
      "outputs": []
    },
    {
      "cell_type": "code",
      "source": [
        "m1 = dataset[(dataset.Gender==\"Male\") & (dataset.Frequency==\"Once\")]\n",
        "m2 = dataset[(dataset.Gender==\"Male\") & (dataset.Frequency==\"Often\")]\n",
        "m3 = dataset[(dataset.Gender==\"Male\") & (dataset.Frequency==\"Regular\")]\n",
        "f1 = dataset[(dataset.Gender==\"Female\") & (dataset.Frequency==\"Once\")]\n",
        "f2 = dataset[(dataset.Gender==\"Female\") & (dataset.Frequency==\"Often\")]\n",
        "f3 = dataset[(dataset.Gender==\"Female\") & (dataset.Frequency==\"Regular\")]\n",
        "\n",
        "plt.figure(1,figsize=(10,5)) \n",
        "\n",
        "x = np.arange(3)\n",
        "y1 = [len(m1),len(m2),len(m3)]\n",
        "y2 = [len(f1),len(f2),len(f3)]\n",
        "plt.xticks(x, ['Once', 'Often', 'Regular'])\n",
        "plt.xlabel(\"Frequency\")\n",
        "plt.ylabel(\"Number of customers\")\n",
        "width = 0.30\n",
        "  \n",
        "plt.bar(x-0.15, y1, width)\n",
        "plt.bar(x+0.15, y2, width)\n",
        "plt.legend([\"Male\",\"Female\"])\n",
        "plt.show()"
      ],
      "metadata": {
        "id": "B1WvPmREA_Pi"
      },
      "execution_count": null,
      "outputs": []
    },
    {
      "cell_type": "code",
      "source": [
        "Furniture = dataset.Product[(dataset.Product == 'Furniture' ) ]\n",
        "Fashion= dataset.Product[(dataset.Product == 'Fashion' ) ]\n",
        "Electronics= dataset.Product[(dataset.Product == 'Electronics') ]\n",
        "Household= dataset.Product[(dataset.Product == 'Household' ) ]\n",
        "\n",
        "agex = [\"Furniture\", \"Fashion\", \"Electronics\", \"Household\"]\n",
        "agey = [len(Furniture.values),len(Fashion.values),len(Electronics.values),len(Household.values)]\n",
        "\n",
        "plt.figure(figsize=(10,4))\n",
        "sns.barplot(x=agex, y=agey, palette=\"mako\")\n",
        "plt.title(\"Number of Customer & Product\")\n",
        "plt.xlabel(\"Product\")\n",
        "plt.ylabel(\"Number of customers\")\n",
        "plt.show()"
      ],
      "metadata": {
        "id": "7H_01bUQzj9K"
      },
      "execution_count": null,
      "outputs": []
    },
    {
      "cell_type": "code",
      "source": [
        "m1 = dataset[(dataset.Gender==\"Male\") & (dataset.Product==\"Furniture\")]\n",
        "m2 = dataset[(dataset.Gender==\"Male\") & (dataset.Product==\"Fashion\")]\n",
        "m3 = dataset[(dataset.Gender==\"Male\") & (dataset.Product==\"Electronics\")]\n",
        "m4 = dataset[(dataset.Gender==\"Male\") & (dataset.Product==\"Household\")]\n",
        "f1 = dataset[(dataset.Gender==\"Female\") & (dataset.Product==\"Furniture\")]\n",
        "f2 = dataset[(dataset.Gender==\"Female\") & (dataset.Product==\"Fashion\")]\n",
        "f3 = dataset[(dataset.Gender==\"Female\") & (dataset.Product==\"Electronics\")]\n",
        "f4 = dataset[(dataset.Gender==\"Female\") & (dataset.Product==\"Household\")]\n",
        "\n",
        "plt.figure(1,figsize=(10,5)) \n",
        "\n",
        "x = np.arange(4)\n",
        "y1 = [len(m1),len(m2),len(m3),len(m4)]\n",
        "y2 = [len(f1),len(f2),len(f3),len(f4)]\n",
        "plt.xticks(x, ['Furniture', 'Fashion', 'Electronics', 'Household'])\n",
        "plt.xlabel(\"Product_categories\")\n",
        "plt.ylabel(\"Number of customers\")\n",
        "width = 0.40\n",
        "  \n",
        "plt.bar(x-0.2, y1, width)\n",
        "plt.bar(x+0.2, y2, width)\n",
        "plt.legend([\"Male\",\"Female\"])\n",
        "plt.show()"
      ],
      "metadata": {
        "id": "Fanz9W1CIuXJ"
      },
      "execution_count": null,
      "outputs": []
    },
    {
      "cell_type": "code",
      "metadata": {
        "id": "cpD8WRAl_CEz"
      },
      "source": [
        "labels = ['Furniture', 'Fashion', 'Electronics', 'Household']\n",
        "size = dataset['Product'].value_counts()\n",
        "colors = ['lightgreen', 'orange','skyblue', 'yellow']\n",
        "\n",
        "plt.rcParams['figure.figsize'] = (5, 8)\n",
        "plt.pie(size, colors = [\"hotpink\", \"#4CAF50\", \"#87CEEB\",\"#FFFF00\"], labels = labels, autopct = '%.1f%%')\n",
        "plt.title('Product', fontsize = 20)\n",
        "plt.axis('off')\n",
        "plt.legend()\n",
        "plt.show()"
      ],
      "execution_count": null,
      "outputs": []
    },
    {
      "cell_type": "code",
      "metadata": {
        "id": "z_3f6nJBty-3"
      },
      "source": [
        "ss_1_20 = dataset[\"Spending Score (1-100)\"][(dataset[\"Spending Score (1-100)\"] >= 1) & (dataset[\"Spending Score (1-100)\"] <= 20) ]\n",
        "ss_21_40 = dataset[\"Spending Score (1-100)\"][(dataset[\"Spending Score (1-100)\"] >= 21) & (dataset[\"Spending Score (1-100)\"] <= 40) ]\n",
        "ss_41_60 = dataset[\"Spending Score (1-100)\"][(dataset[\"Spending Score (1-100)\"] >= 41) & (dataset[\"Spending Score (1-100)\"] <= 60) ]\n",
        "ss_61_80 = dataset[\"Spending Score (1-100)\"][(dataset[\"Spending Score (1-100)\"] >= 61) & (dataset[\"Spending Score (1-100)\"] <= 80) ]\n",
        "ss_81_100 = dataset[\"Spending Score (1-100)\"][(dataset[\"Spending Score (1-100)\"] >= 81) & (dataset[\"Spending Score (1-100)\"] <= 100) ]\n",
        "\n",
        "ss_x = [\"1-20\",\"21-40\",\"41-60\",\"61-80\",\"81-100\"]\n",
        "ss_y = [len(ss_1_20.values), len(ss_21_40.values), len(ss_41_60.values), len(ss_61_80.values), len(ss_81_100.values)]\n",
        "\n",
        "plt.figure(figsize=(12,4))\n",
        "sns.barplot(x=ss_x, y=ss_y, palette=\"rocket\")\n",
        "plt.title(\"Spending Scores\")\n",
        "plt.xlabel(\"Score\")\n",
        "plt.ylabel(\"Number of customers\")\n",
        "plt.show()"
      ],
      "execution_count": null,
      "outputs": []
    },
    {
      "cell_type": "code",
      "metadata": {
        "id": "enuyBfyKlV1Z"
      },
      "source": [
        "plt.figure(1,figsize=(15,3))\n",
        "n = 0\n",
        "for cols in ['Age', 'Annual Income (k$)', 'Spending Score (1-100)']:\n",
        "  n+=1\n",
        "  plt.subplot(1, 3, n)\n",
        "  sns.set(style=\"whitegrid\")\n",
        "  plt.subplots_adjust(hspace = 0.5, wspace = 0.5)\n",
        "  sns.boxplot(x = cols, data = dataset)\n",
        "  plt.title('Box Plot')\n",
        "plt.show()"
      ],
      "execution_count": null,
      "outputs": []
    },
    {
      "cell_type": "code",
      "metadata": {
        "id": "q4i1ALI4w9bG"
      },
      "source": [
        "annualIncome0_30 = dataset[\"Annual Income (k$)\"][(dataset[\"Annual Income (k$)\"] >= 0) & (dataset[\"Annual Income (k$)\"] <= 30)]\n",
        "annualIncome31_60 = dataset[\"Annual Income (k$)\"][(dataset[\"Annual Income (k$)\"] >= 31) & (dataset[\"Annual Income (k$)\"] <= 60)]\n",
        "annualIncome61_90 = dataset[\"Annual Income (k$)\"][(dataset[\"Annual Income (k$)\"] >= 61) & (dataset[\"Annual Income (k$)\"] <= 90)]\n",
        "annualIncome91_120 = dataset[\"Annual Income (k$)\"][(dataset[\"Annual Income (k$)\"] >= 91) & (dataset[\"Annual Income (k$)\"] <= 120)]\n",
        "annualIncome121_150 = dataset[\"Annual Income (k$)\"][(dataset[\"Annual Income (k$)\"] >= 121) & (dataset[\"Annual Income (k$)\"] <= 150)]\n",
        "\n",
        "ai_x = [\"$ 0 - 30,000\", \"$ 30,001 - 60,000\", \"$ 60,001 - 90,000\", \"$ 90,001 - 120,000\", \"$ 120,001 - 150,000\"]\n",
        "ai_y = [len(annualIncome0_30), len(annualIncome31_60), len(annualIncome61_90), len(annualIncome91_120), len(annualIncome121_150)]\n",
        "\n",
        "plt.figure(figsize=(15,6))\n",
        "sns.barplot(x=ai_x, y=ai_y, palette=\"Spectral\")\n",
        "plt.title(\"Annual Incomes\")\n",
        "plt.xlabel(\"Income\")\n",
        "plt.ylabel(\"Number of customers\")\n",
        "plt.show()\n"
      ],
      "execution_count": null,
      "outputs": []
    },
    {
      "cell_type": "markdown",
      "source": [
        "Elbow Method"
      ],
      "metadata": {
        "id": "kWZDlLE2Eh02"
      }
    },
    {
      "cell_type": "code",
      "metadata": {
        "id": "U9IdG1SeZioO"
      },
      "source": [
        "from sklearn.cluster import KMeans\n",
        "\n",
        "X=dataset.loc[:, [\"Annual Income (k$)\",\"Spending Score (1-100)\"]].values\n",
        "\n",
        "sse = []\n",
        "for k in range(1,11):\n",
        "  km = KMeans(n_clusters=k, init='k-means++', max_iter=300, n_init=10, random_state=0)\n",
        "  # km = KMeans(n_clusters=k)\n",
        "  km.fit(X)\n",
        "  sse.append(km.inertia_)\n",
        "\n",
        "plt.figure(figsize=(14,6))\n",
        "plt.plot(range(1,11),sse)\n",
        "plt.title('The Elbow Method',fontsize=20)\n",
        "plt.xlabel('No. of clusters')\n",
        "plt.ylabel('Sum_of_squared_distances')\n",
        "plt.show()\n",
        "\n",
        "km = KMeans(n_clusters=5)\n",
        "predicted_clusters = km.fit_predict(X)\n",
        "# predicted_clusters\n",
        "dataset['Group'] = predicted_clusters\n",
        "dataset.head()"
      ],
      "execution_count": null,
      "outputs": []
    },
    {
      "cell_type": "code",
      "source": [
        "d1 = dataset[dataset.Group==0]\n",
        "d2 = dataset[dataset.Group==1]\n",
        "d3 = dataset[dataset.Group==2]\n",
        "d4 = dataset[dataset.Group==3]\n",
        "d5 = dataset[dataset.Group==4]\n",
        "\n",
        "plt.rcParams['figure.figsize'] = (6,7)\n",
        "plt.scatter(d1['Annual Income (k$)'],d1['Spending Score (1-100)'], color='red', label='big-spender')\n",
        "plt.scatter(d2['Annual Income (k$)'],d2['Spending Score (1-100)'], color='blue', label='miser')\n",
        "plt.scatter(d3['Annual Income (k$)'],d3['Spending Score (1-100)'], color='Green', label='target')\n",
        "plt.scatter(d4['Annual Income (k$)'],d4['Spending Score (1-100)'], color='Black', label='careful')\n",
        "plt.scatter(d5['Annual Income (k$)'],d5['Spending Score (1-100)'], color='yellow', label='general')\n",
        "plt.scatter(km.cluster_centers_[:,0], km.cluster_centers_[:,1], s=100, color='brown', marker='+', label='centroid')\n",
        "\n",
        "plt.xlabel('Annual Income')\n",
        "plt.ylabel('Spending Score')\n",
        "plt.legend()\n",
        "plt.show()"
      ],
      "metadata": {
        "id": "DgdvfPZEMwDP"
      },
      "execution_count": null,
      "outputs": []
    },
    {
      "cell_type": "code",
      "source": [
        "from sklearn.cluster import KMeans\n",
        "\n",
        "X=dataset.loc[:, [\"Age\",\"Spending Score (1-100)\"]].values\n",
        "\n",
        "sse = []\n",
        "for k in range(1,11):\n",
        "  km = KMeans(n_clusters=k, init='k-means++', max_iter=300, n_init=10, random_state=0)\n",
        "  # km = KMeans(n_clusters=k)\n",
        "  km.fit(X)\n",
        "  sse.append(km.inertia_)\n",
        "plt.figure(figsize=(14,6))\n",
        "plt.plot(range(1,11),sse)\n",
        "plt.title('The Elbow Method',fontsize=20)\n",
        "plt.xlabel('No. of clusters')\n",
        "plt.ylabel('Sum_of_squared_distances')\n",
        "plt.show()\n",
        "\n",
        "km = KMeans(n_clusters=5)\n",
        "predicted_clusters_age = km.fit_predict(X)\n",
        "# predicted_clusters\n",
        "dataset['Group_Age'] = predicted_clusters_age\n",
        "dataset.head()"
      ],
      "metadata": {
        "id": "5rBjtMWqMwMi"
      },
      "execution_count": null,
      "outputs": []
    },
    {
      "cell_type": "code",
      "source": [
        "D1 = dataset[dataset.Group_Age==0]\n",
        "D2 = dataset[dataset.Group_Age==1]\n",
        "D3 = dataset[dataset.Group_Age==2]\n",
        "D4 = dataset[dataset.Group_Age==3]\n",
        "\n",
        "plt.rcParams['figure.figsize'] = (8,9)\n",
        "plt.scatter(D1['Age'],D1['Spending Score (1-100)'], color='red', label='Priority Customers')\n",
        "plt.scatter(D2['Age'],D2['Spending Score (1-100)'],color='blue', label='Young Target Customers')\n",
        "plt.scatter(D3['Age'],D3['Spending Score (1-100)'],color='Green', label='Profitting Customers')\n",
        "plt.scatter(D4['Age'],D4['Spending Score (1-100)'],color='Black', label='Senior Citizen Target Customers')\n",
        "\n",
        "plt.xlabel('Age')\n",
        "plt.ylabel('Spending Score')\n",
        "plt.legend()\n",
        "plt.show()"
      ],
      "metadata": {
        "id": "mre0ix56cXd4"
      },
      "execution_count": null,
      "outputs": []
    }
  ]
}